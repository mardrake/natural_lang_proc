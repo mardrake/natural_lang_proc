{
 "cells": [
  {
   "cell_type": "code",
   "execution_count": 1,
   "id": "66fa4515",
   "metadata": {},
   "outputs": [],
   "source": [
    "!pip install nltk\n",
    "!pip install --upgrade numpy\n",
    "!pip install multiprocesspandas\n",
    "import pandas as pd\n",
    "import html\n",
    "import re\n",
    "import time\n",
    "import numpy as np\n",
    "from nltk.tokenize import word_tokenize, wordpunct_tokenize\n",
    "from nltk import tokenize as tknz  \n",
    "import nltk\n",
    "nltk.download('punkt')\n",
    "from multiprocesspandas import applyparallel\n",
    "from nltk.corpus import stopwords\n",
    "from multiprocessing import Pool\n",
    "from tqdm import tqdm_notebook as tqdm\n",
    "from nltk.stem import PorterStemmer, WordNetLemmatizer\n",
    "from nltk.corpus import wordnet\n",
    "nltk.download('stopwords')\n",
    "nltk.download('wordnet')"
   ]
  },
  {
   "cell_type": "code",
   "execution_count": 2,
   "id": "6d54a9d6",
   "metadata": {},
   "outputs": [
    {
     "data": {
      "text/html": [
       "<div>\n",
       "<style scoped>\n",
       "    .dataframe tbody tr th:only-of-type {\n",
       "        vertical-align: middle;\n",
       "    }\n",
       "\n",
       "    .dataframe tbody tr th {\n",
       "        vertical-align: top;\n",
       "    }\n",
       "\n",
       "    .dataframe thead th {\n",
       "        text-align: right;\n",
       "    }\n",
       "</style>\n",
       "<table border=\"1\" class=\"dataframe\">\n",
       "  <thead>\n",
       "    <tr style=\"text-align: right;\">\n",
       "      <th></th>\n",
       "      <th>id</th>\n",
       "      <th>label</th>\n",
       "      <th>tweet</th>\n",
       "    </tr>\n",
       "  </thead>\n",
       "  <tbody>\n",
       "    <tr>\n",
       "      <th>0</th>\n",
       "      <td>1</td>\n",
       "      <td>0</td>\n",
       "      <td>@user when a father is dysfunctional and is s...</td>\n",
       "    </tr>\n",
       "    <tr>\n",
       "      <th>1</th>\n",
       "      <td>2</td>\n",
       "      <td>0</td>\n",
       "      <td>@user @user thanks for #lyft credit i can't us...</td>\n",
       "    </tr>\n",
       "    <tr>\n",
       "      <th>2</th>\n",
       "      <td>3</td>\n",
       "      <td>0</td>\n",
       "      <td>bihday your majesty</td>\n",
       "    </tr>\n",
       "  </tbody>\n",
       "</table>\n",
       "</div>"
      ],
      "text/plain": [
       "   id  label                                              tweet\n",
       "0   1      0   @user when a father is dysfunctional and is s...\n",
       "1   2      0  @user @user thanks for #lyft credit i can't us...\n",
       "2   3      0                                bihday your majesty"
      ]
     },
     "execution_count": 2,
     "metadata": {},
     "output_type": "execute_result"
    }
   ],
   "source": [
    "train_df = pd.read_csv('C:\\\\Projects\\\\natural_lang_proc\\\\train_tweets.csv')\n",
    "test_df = pd.read_csv('C:\\\\Projects\\\\natural_lang_proc\\\\test_tweets.csv')\n",
    "combine_df = train_df.append(test_df, ignore_index = True, sort = False)\n",
    "combine_df = combine_df.fillna(0)\n",
    "combine_df['clean_tweet'] = combine_df['tweet'].apply(lambda x: html.unescape(x))"
   ]
  },
  {
   "cell_type": "code",
   "execution_count": 8,
   "id": "acdd664d",
   "metadata": {},
   "outputs": [
    {
     "name": "stdout",
     "output_type": "stream",
     "text": [
      "<class 'pandas.core.frame.DataFrame'>\n",
      "RangeIndex: 49159 entries, 0 to 49158\n",
      "Data columns (total 4 columns):\n",
      " #   Column       Non-Null Count  Dtype  \n",
      "---  ------       --------------  -----  \n",
      " 0   id           49159 non-null  int64  \n",
      " 1   label        49159 non-null  float64\n",
      " 2   tweet        49159 non-null  object \n",
      " 3   clean_tweet  49159 non-null  object \n",
      "dtypes: float64(1), int64(1), object(2)\n",
      "memory usage: 1.5+ MB\n",
      "None\n"
     ]
    }
   ],
   "source": [
    "print(combine_df.info())"
   ]
  },
  {
   "cell_type": "code",
   "execution_count": 9,
   "id": "cb520cd1",
   "metadata": {},
   "outputs": [],
   "source": [
    "combine_df['tweet'] = combine_df['tweet'].astype('string')\n",
    "combine_df['clean_tweet'] = combine_df['clean_tweet'].astype('string')"
   ]
  },
  {
   "cell_type": "code",
   "execution_count": 10,
   "id": "e6d0db53",
   "metadata": {},
   "outputs": [
    {
     "name": "stdout",
     "output_type": "stream",
     "text": [
      "<class 'pandas.core.frame.DataFrame'>\n",
      "RangeIndex: 49159 entries, 0 to 49158\n",
      "Data columns (total 4 columns):\n",
      " #   Column       Non-Null Count  Dtype  \n",
      "---  ------       --------------  -----  \n",
      " 0   id           49159 non-null  int64  \n",
      " 1   label        49159 non-null  float64\n",
      " 2   tweet        49159 non-null  string \n",
      " 3   clean_tweet  49159 non-null  string \n",
      "dtypes: float64(1), int64(1), string(2)\n",
      "memory usage: 1.5 MB\n",
      "None\n"
     ]
    }
   ],
   "source": [
    "print(combine_df.info())"
   ]
  },
  {
   "cell_type": "code",
   "execution_count": 13,
   "id": "f6fcbe92",
   "metadata": {},
   "outputs": [
    {
     "data": {
      "text/plain": [
       "<numpy.vectorize at 0x20fbcaad730>"
      ]
     },
     "execution_count": 13,
     "metadata": {},
     "output_type": "execute_result"
    }
   ],
   "source": [
    "def delete_user():\n",
    "    pattern = r\"@[\\w]*\"\n",
    "    combine_df['clean_tweet'] = [re.sub(pattern, ' ', fname) for fname in combine_df['tweet']]\n",
    "    #return combine_df['clean_tweet']\n",
    "np.vectorize(delete_user())"
   ]
  },
  {
   "cell_type": "code",
   "execution_count": 15,
   "id": "019f4ee3",
   "metadata": {},
   "outputs": [],
   "source": [
    "combine_df['clean_tweet'] = combine_df['clean_tweet'].str.lower()"
   ]
  },
  {
   "cell_type": "code",
   "execution_count": 16,
   "id": "a5048183",
   "metadata": {},
   "outputs": [],
   "source": [
    "obj = combine_df['clean_tweet'].copy()\n",
    "def replace_aint_cant():\n",
    "    apostrophe_dict = dict([\n",
    "    (\"ain't\", \"am not\"),\n",
    "    (\"can't\", \"can not\"),\n",
    "    (\":)\", \"happy\")])\n",
    "    #obj = combine_df['clean_tweet'].copy()\n",
    "    for k,v in apostrophe_dict.items(): #based on the rules in the dict\n",
    "        rule1 = (r\"(\\b)(%s)(\\b)\" % k)\n",
    "        rule2 = (lambda m: apostrophe_dict.get(m.group(), m.group())) #found this online, no idea wtf this does but it works\n",
    "        obj = obj.str.replace(rule1, rule2, regex=True, flags=re.IGNORECASE) #use flags here to avoid the dictionary iteration problem\n",
    "combine_df['clean_tweet'] = obj"
   ]
  },
  {
   "cell_type": "code",
   "execution_count": 18,
   "id": "72adbab9",
   "metadata": {},
   "outputs": [],
   "source": [
    "pattern = r'[^\\w\\s]'\n",
    "combine_df['clean_tweet'] = [re.sub(pattern, ' ', fname) for fname in combine_df['tweet']]"
   ]
  },
  {
   "cell_type": "code",
   "execution_count": 19,
   "id": "dbf0718c",
   "metadata": {},
   "outputs": [],
   "source": [
    "pattern = r'[^a-zA-Z0-9]'\n",
    "combine_df['clean_tweet'] = [re.sub(pattern, ' ', fname) for fname in combine_df['tweet']]"
   ]
  },
  {
   "cell_type": "code",
   "execution_count": 20,
   "id": "7693bbdc",
   "metadata": {},
   "outputs": [],
   "source": [
    "pattern = r'[^a-zA-Z]'\n",
    "combine_df['clean_tweet'] = [re.sub(pattern, ' ', fname) for fname in combine_df['tweet']]"
   ]
  },
  {
   "cell_type": "code",
   "execution_count": 21,
   "id": "36a6ceef",
   "metadata": {},
   "outputs": [],
   "source": [
    "obj = combine_df['clean_tweet'].copy()\n",
    "for i in obj:\n",
    "    z = ' '.join([w for w in i.split() if len(w)>1])\n",
    "    combine_df['clean_tweet'] = combine_df['clean_tweet'].replace(i, z)"
   ]
  },
  {
   "cell_type": "code",
   "execution_count": 25,
   "id": "cb6e62a9",
   "metadata": {},
   "outputs": [],
   "source": [
    "combine_df['tweet_token'] = combine_df['clean_tweet'].apply_parallel(word_tokenize) "
   ]
  },
  {
   "cell_type": "code",
   "execution_count": 31,
   "id": "5af05bf0",
   "metadata": {},
   "outputs": [],
   "source": [
    "from multiprocesspandas import applyparallel\n",
    "stop_words = set(stopwords.words(\"english\"))"
   ]
  },
  {
   "cell_type": "code",
   "execution_count": 32,
   "id": "455f21b7",
   "metadata": {},
   "outputs": [],
   "source": [
    "stop_words = set(stopwords.words(\"english\"))\n",
    "combine_df['tweet_token_filtered'] = combine_df['tweet_token'].apply(lambda x: ' '.join([word for word in x if word not in (stop_words)]))   "
   ]
  },
  {
   "cell_type": "code",
   "execution_count": 41,
   "id": "68036137",
   "metadata": {},
   "outputs": [],
   "source": [
    "wordnet_lemmatizer = WordNetLemmatizer()\n",
    "\n",
    "def convert(text):\n",
    "    lemmatized_text = []\n",
    "    for i in text:\n",
    "        lemmatized_text.append(str(wordnet_lemmatizer.lemmatize(i,pos=\"v\")))\n",
    "\n",
    "    return ' '.join(lemmatized_text)\n",
    "\n",
    "combine_df['tweet_lemmatized'] = combine_df['tweet_token'].apply(lambda x: convert(x))"
   ]
  },
  {
   "cell_type": "code",
   "execution_count": 44,
   "id": "da1ac365",
   "metadata": {},
   "outputs": [],
   "source": [
    "porter_stemmer = PorterStemmer()\n",
    "def stem_sentences(sentence):\n",
    "    tokens = sentence\n",
    "    stemmed_tokens = [porter_stemmer.stem(token) for token in tokens]\n",
    "    return ' '.join(stemmed_tokens)\n",
    "\n",
    "combine_df['tweet_stemmed'] = combine_df['tweet_token'].apply(stem_sentences)"
   ]
  },
  {
   "cell_type": "code",
   "execution_count": 46,
   "id": "5e2a35f6",
   "metadata": {},
   "outputs": [],
   "source": [
    "combine_df.to_pickle('combine_df.pkl')"
   ]
  }
 ],
 "metadata": {
  "kernelspec": {
   "display_name": "Python 3 (ipykernel)",
   "language": "python",
   "name": "python3"
  },
  "language_info": {
   "codemirror_mode": {
    "name": "ipython",
    "version": 3
   },
   "file_extension": ".py",
   "mimetype": "text/x-python",
   "name": "python",
   "nbconvert_exporter": "python",
   "pygments_lexer": "ipython3",
   "version": "3.9.7"
  }
 },
 "nbformat": 4,
 "nbformat_minor": 5
}
